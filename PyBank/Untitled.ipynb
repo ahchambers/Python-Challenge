{
 "cells": [
  {
   "cell_type": "code",
   "execution_count": 62,
   "metadata": {},
   "outputs": [],
   "source": [
    "import os\n",
    "import csv\n",
    "\n",
    "revenue_changes=[]\n",
    "\n"
   ]
  },
  {
   "cell_type": "code",
   "execution_count": 63,
   "metadata": {},
   "outputs": [],
   "source": [
    "#Open file\n",
    "csv_path=os.path.join(\"resources/budget_data.csv\")\n",
    "with open (csv_path) as csvfile:\n",
    "    csv_reader=csv.reader(csvfile, delimiter=',')\n",
    "    next(csv_reader, None)\n",
    "\n",
    "    #Create file with no header\n",
    "    line=next(csv_reader, None)\n",
    "\n",
    "    #Set variables \n",
    "    total_month=0\n",
    "    revenue=float(line[1])\n",
    "    greatest_increase=revenue\n",
    "    greatest_decrease=revenue\n",
    "    months=[]\n",
    "    total_revenue=0\n",
    "    revenue_change=0\n",
    "    previous_revenue=0\n",
    "    sum_revenue_change=0\n",
    "    av_revenue_change=0\n",
    "\n",
    "    #Loop through each row and calculate summary info\n",
    "    for row in csv_reader:\n",
    "        total_month=total_month+1\n",
    "        months.append(row[0])\n",
    "        total_revenue=total_revenue+revenue\n",
    "        revenue=float(row[1])\n",
    "        \n",
    "        if total_month>1:\n",
    "            revenue_change=revenue-previous_revenue\n",
    "            revenue_changes.append(revenue_change)\n",
    "            previous_revenue=revenue\n",
    "            \n",
    "    sum_revenue_change=sum(revenue_changes)\n",
    "    av_revenue_change=sum_revenue_change/(total_month)\n",
    "    greatest_increase=max(revenue_changes)\n",
    "    greatest_decrease=min(revenue_changes)\n",
    "    max_month_index= revenue_changes.index(greatest_increase)\n",
    "    min_month_index= revenue_changes.index(greatest_decrease)\n",
    "    max_month=months[max_month_index]\n",
    "    min_month=months[min_month_index]\n",
    "            \n",
    "            \n",
    "       "
   ]
  },
  {
   "cell_type": "code",
   "execution_count": 64,
   "metadata": {},
   "outputs": [
    {
     "data": {
      "text/plain": [
       "1926159.0"
      ]
     },
     "execution_count": 64,
     "metadata": {},
     "output_type": "execute_result"
    }
   ],
   "source": [
    "greatest_increase\n",
    "    "
   ]
  },
  {
   "cell_type": "code",
   "execution_count": null,
   "metadata": {},
   "outputs": [],
   "source": []
  }
 ],
 "metadata": {
  "kernelspec": {
   "display_name": "Python 3",
   "language": "python",
   "name": "python3"
  },
  "language_info": {
   "codemirror_mode": {
    "name": "ipython",
    "version": 3
   },
   "file_extension": ".py",
   "mimetype": "text/x-python",
   "name": "python",
   "nbconvert_exporter": "python",
   "pygments_lexer": "ipython3",
   "version": "3.7.6"
  }
 },
 "nbformat": 4,
 "nbformat_minor": 4
}
